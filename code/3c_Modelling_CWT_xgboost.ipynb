{
 "cells": [
  {
   "cell_type": "markdown",
   "metadata": {},
   "source": [
    "# Heartbeat Sounds Classification using Machine Learning\n",
    "DSI 13 Capstone Project: Classifying heartbeat anomalies from stethoscope audio\n",
    "**Notebook 3c: Modelling - CWT XGBOOST**"
   ]
  },
  {
   "cell_type": "markdown",
   "metadata": {},
   "source": [
    "## Importing Libraries"
   ]
  },
  {
   "cell_type": "code",
   "execution_count": null,
   "metadata": {},
   "outputs": [],
   "source": [
    "# for me, I need to run extral step before can do pip install in terminal\n",
    "# the step is listed in the last line of this notebook\n",
    "#!pip install xgboost"
   ]
  },
  {
   "cell_type": "code",
   "execution_count": 1,
   "metadata": {},
   "outputs": [
    {
     "name": "stderr",
     "output_type": "stream",
     "text": [
      "/opt/anaconda3/lib/python3.7/site-packages/statsmodels/tools/_testing.py:19: FutureWarning: pandas.util.testing is deprecated. Use the functions in the public API at pandas.testing instead.\n",
      "  import pandas.util.testing as tm\n"
     ]
    },
    {
     "name": "stdout",
     "output_type": "stream",
     "text": [
      "Populating the interactive namespace from numpy and matplotlib\n"
     ]
    },
    {
     "name": "stderr",
     "output_type": "stream",
     "text": [
      "/opt/anaconda3/lib/python3.7/site-packages/IPython/core/magics/pylab.py:160: UserWarning: pylab import has clobbered these variables: ['shuffle']\n",
      "`%matplotlib` prevents importing * from pylab and numpy\n",
      "  \"\\n`%matplotlib` prevents importing * from pylab and numpy\"\n"
     ]
    }
   ],
   "source": [
    "import pandas as pd\n",
    "import numpy as np\n",
    "#import scipy\n",
    "#from scipy.signal import welch\n",
    "\n",
    "## plot\n",
    "import matplotlib.pyplot as plt\n",
    "import seaborn as sns\n",
    "\n",
    "## others\n",
    "#from glob import glob\n",
    "import itertools\n",
    "\n",
    "\n",
    "# Scikit learn\n",
    "#from sklearn.model_selection import train_test_split\n",
    "from sklearn.metrics import classification_report, accuracy_score, confusion_matrix\n",
    "from sklearn.preprocessing import LabelEncoder\n",
    "from sklearn.utils import shuffle, resample, class_weight\n",
    "from sklearn.model_selection import GridSearchCV, RandomizedSearchCV\n",
    "from sklearn.decomposition import PCA\n",
    "\n",
    "## xgboost\n",
    "from xgboost import XGBClassifier\n",
    "from xgboost import plot_tree, plot_importance\n",
    "\n",
    "#To visualize the whole grid\n",
    "pd.options.display.max_columns = 999\n",
    "\n",
    "%matplotlib inline\n",
    "%pylab inline"
   ]
  },
  {
   "cell_type": "markdown",
   "metadata": {},
   "source": [
    "### Reload the preprocessed data from notebook 2"
   ]
  },
  {
   "cell_type": "code",
   "execution_count": 2,
   "metadata": {},
   "outputs": [],
   "source": [
    "### Load data\n",
    "%store -r X_train_cwt \n",
    "%store -r X_test_cwt \n",
    "%store -r y_train \n",
    "%store -r y_test \n",
    "%store -r X_aunlabel_cwt\n",
    "%store -r X_bunlabel_cwt\n",
    "%store -r le\n",
    "%store -r class_weights"
   ]
  },
  {
   "cell_type": "markdown",
   "metadata": {},
   "source": [
    "# 5.4 XGBOOST using CWT feature\n",
    "\n",
    "**eXtreme Gradient Boosting or XGBOOST** is a gradient boosting, decision tree-based ensemble machine learning algorithm. Gradient Boosting Machines fit into a category of ML called Ensemble Learning, which is a branch of ML methods that train and predict with many models at once to produce a single superior output.\n",
    "\n",
    "**Feature selection**: Here I will reuse the **CWT features**, but apply **PCA** to extract the important feature to achieve dimentionality reduction before passing to XGBOOST Classifier for modelling.\n",
    "In addition, I will only work on dataset with syntheisize audio + oversampling, since both MFCC+CNN and CWT+CNN results shown that model is able to classifying the minority class better with imbalance class treatment.\n",
    "\n",
    "Source:\n",
    "[Intro to Classification and Feature Selection with XGBoost](https://www.aitimejournal.com/@jonathan.hirko/intro-to-classification-and-feature-selection-with-xgboost)"
   ]
  },
  {
   "cell_type": "markdown",
   "metadata": {},
   "source": [
    "# 5.4.1 X_train (Synthesize and Oversampling)\n",
    "\n",
    "## 5.4.1.1 Feature Extraction using Principal Components Analysis (PCA)\n",
    "\n",
    "The CWT features from previous 5.3 CNN modelling section are 2D CWT coefficients which form an scaleogram image. \n",
    "Instead of the 2D (150 x 150) features, I apply PCA to extract the features with the highest variation in each scale, and resulted in 1D features (150)."
   ]
  },
  {
   "cell_type": "code",
   "execution_count": 3,
   "metadata": {},
   "outputs": [],
   "source": [
    "### Function to perform PCA\n",
    "def pca_cwt(X):\n",
    "    \n",
    "    # Reshape X from 4D to 3D\n",
    "    X = np.reshape(X, (-1, X.shape[1], X.shape[2]))\n",
    "    \n",
    "    # apply PCA for just a single component to get the most significant coefficient per scale (period/frequency)\n",
    "    pca = PCA(n_components=1)\n",
    "    \n",
    "    # set an empty array (0,150), which will then stack the PCA component for each samples (number of sample = number for rows in X.shape[0])\n",
    "    pca_comps = np.empty((0, X.shape[1]), dtype = 'float32')\n",
    "    for sample in range(X.shape[0]):\n",
    "        pca_comps = np.vstack([pca_comps, pca.fit_transform(X[sample]).flatten()])\n",
    "        \n",
    "    return pca_comps"
   ]
  },
  {
   "cell_type": "code",
   "execution_count": 4,
   "metadata": {},
   "outputs": [
    {
     "name": "stdout",
     "output_type": "stream",
     "text": [
      "X_train_pca: (854, 120)\n",
      "X_test_pca: (117, 120)\n",
      "CPU times: user 6.11 s, sys: 591 ms, total: 6.7 s\n",
      "Wall time: 3.5 s\n"
     ]
    }
   ],
   "source": [
    "%%time\n",
    "### Feature Extraction from X_train_cwt and X_test_cwt using PCA\n",
    "\n",
    "X_train_pca = pca_cwt(X_train_cwt)\n",
    "print(f\"X_train_pca: {X_train_pca.shape}\")\n",
    "X_test_pca = pca_cwt(X_test_cwt)\n",
    "print(f\"X_test_pca: {X_test_pca.shape}\")"
   ]
  },
  {
   "cell_type": "markdown",
   "metadata": {},
   "source": [
    "## 5.4.1.2 y_label\n",
    "\n",
    "- The y_train_cwt and y_test_cwt shape: (rows x5), were dummy coded with the 5 classes to 5 column. \n",
    "- Below cell revert them into numerical category, resulted in 1D np.array"
   ]
  },
  {
   "cell_type": "code",
   "execution_count": 5,
   "metadata": {},
   "outputs": [],
   "source": [
    "### Function to convert y_label from dummies coded 5 col to numerical category in 1D np array\n",
    "def convert_ylabel(ytrain, ytest):\n",
    "    y_train_pca, y_test_pca = [],[]\n",
    "    \n",
    "    for i in range(ytrain.shape[0]):\n",
    "        y_train_pca.append(np.argmax(ytrain[i]))\n",
    "    for j in range(ytest.shape[0]):\n",
    "        y_test_pca.append(np.argmax(ytest[j]))\n",
    "        \n",
    "    # change to 1D np.array\n",
    "    y_train_pca = np.array(y_train_pca)\n",
    "    y_test_pca = np.array(y_test_pca)\n",
    "    \n",
    "    print(f\"ytrain pca : {y_train_pca.shape}\")\n",
    "    print(f\"ytest pca : {y_test_pca.shape}\")\n",
    "    \n",
    "    return y_train_pca, y_test_pca"
   ]
  },
  {
   "cell_type": "code",
   "execution_count": 6,
   "metadata": {},
   "outputs": [
    {
     "name": "stdout",
     "output_type": "stream",
     "text": [
      "ytrain pca : (854,)\n",
      "ytest pca : (117,)\n"
     ]
    }
   ],
   "source": [
    "y_train_pca, y_test_pca = convert_ylabel(y_train, y_test)"
   ]
  },
  {
   "cell_type": "code",
   "execution_count": 8,
   "metadata": {},
   "outputs": [],
   "source": [
    "### Calculate class weight for y_train_pca\n",
    "classes = le.classes_\n",
    "train_weight = [class_weights[x] for x in y_train_pca]\n",
    "test_weight = [class_weights[x] for x in y_test_pca]"
   ]
  },
  {
   "cell_type": "markdown",
   "metadata": {},
   "source": [
    "## 5.4.1.3 XGBOOST Modeling\n"
   ]
  },
  {
   "cell_type": "markdown",
   "metadata": {},
   "source": [
    "#### Instantiate model"
   ]
  },
  {
   "cell_type": "code",
   "execution_count": 9,
   "metadata": {},
   "outputs": [],
   "source": [
    "xgb = XGBClassifier(max_depth = 5, \n",
    "                    objective = 'multi:softmax', #multiclass classification using the softmax \n",
    "                    num_class = 5, \n",
    "                    subsample = 0.5,   #Subsample ratio of the training instances.\n",
    "                    n_estimators = 120)"
   ]
  },
  {
   "cell_type": "markdown",
   "metadata": {},
   "source": [
    "#### Fit model"
   ]
  },
  {
   "cell_type": "code",
   "execution_count": 10,
   "metadata": {},
   "outputs": [
    {
     "name": "stdout",
     "output_type": "stream",
     "text": [
      "[0]\tvalidation_0-merror:0.18244\tvalidation_1-merror:0.49790\n",
      "[1]\tvalidation_0-merror:0.12497\tvalidation_1-merror:0.48129\n",
      "[2]\tvalidation_0-merror:0.10903\tvalidation_1-merror:0.44986\n",
      "[3]\tvalidation_0-merror:0.08996\tvalidation_1-merror:0.49255\n",
      "[4]\tvalidation_0-merror:0.07147\tvalidation_1-merror:0.51942\n",
      "[5]\tvalidation_0-merror:0.06967\tvalidation_1-merror:0.52187\n",
      "[6]\tvalidation_0-merror:0.07046\tvalidation_1-merror:0.53391\n",
      "[7]\tvalidation_0-merror:0.04623\tvalidation_1-merror:0.52510\n",
      "[8]\tvalidation_0-merror:0.04416\tvalidation_1-merror:0.53391\n",
      "[9]\tvalidation_0-merror:0.04611\tvalidation_1-merror:0.53001\n",
      "[10]\tvalidation_0-merror:0.03766\tvalidation_1-merror:0.52365\n",
      "[11]\tvalidation_0-merror:0.03580\tvalidation_1-merror:0.51484\n",
      "[12]\tvalidation_0-merror:0.03073\tvalidation_1-merror:0.51730\n",
      "[13]\tvalidation_0-merror:0.02470\tvalidation_1-merror:0.51730\n",
      "[14]\tvalidation_0-merror:0.02105\tvalidation_1-merror:0.51730\n",
      "[15]\tvalidation_0-merror:0.02034\tvalidation_1-merror:0.53001\n",
      "[16]\tvalidation_0-merror:0.01891\tvalidation_1-merror:0.51340\n",
      "[17]\tvalidation_0-merror:0.01689\tvalidation_1-merror:0.53246\n",
      "[18]\tvalidation_0-merror:0.01451\tvalidation_1-merror:0.51094\n",
      "[19]\tvalidation_0-merror:0.01618\tvalidation_1-merror:0.51094\n",
      "[20]\tvalidation_0-merror:0.01158\tvalidation_1-merror:0.50459\n",
      "[21]\tvalidation_0-merror:0.00916\tvalidation_1-merror:0.52021\n",
      "[22]\tvalidation_0-merror:0.00647\tvalidation_1-merror:0.52021\n",
      "[23]\tvalidation_0-merror:0.00647\tvalidation_1-merror:0.51730\n",
      "[24]\tvalidation_0-merror:0.00647\tvalidation_1-merror:0.51730\n",
      "[25]\tvalidation_0-merror:0.00575\tvalidation_1-merror:0.51730\n",
      "[26]\tvalidation_0-merror:0.00575\tvalidation_1-merror:0.49968\n",
      "[27]\tvalidation_0-merror:0.00575\tvalidation_1-merror:0.49968\n",
      "[28]\tvalidation_0-merror:0.00476\tvalidation_1-merror:0.50604\n",
      "[29]\tvalidation_0-merror:0.00476\tvalidation_1-merror:0.50849\n",
      "[30]\tvalidation_0-merror:0.00143\tvalidation_1-merror:0.51484\n",
      "[31]\tvalidation_0-merror:0.00143\tvalidation_1-merror:0.52365\n",
      "[32]\tvalidation_0-merror:0.00143\tvalidation_1-merror:0.51730\n",
      "[33]\tvalidation_0-merror:0.00143\tvalidation_1-merror:0.52611\n",
      "[34]\tvalidation_0-merror:0.00143\tvalidation_1-merror:0.51730\n",
      "[35]\tvalidation_0-merror:0.00071\tvalidation_1-merror:0.52365\n",
      "[36]\tvalidation_0-merror:0.00071\tvalidation_1-merror:0.52365\n",
      "[37]\tvalidation_0-merror:0.00071\tvalidation_1-merror:0.52365\n",
      "[38]\tvalidation_0-merror:0.00071\tvalidation_1-merror:0.51094\n",
      "[39]\tvalidation_0-merror:0.00000\tvalidation_1-merror:0.51730\n",
      "[40]\tvalidation_0-merror:0.00071\tvalidation_1-merror:0.51730\n",
      "[41]\tvalidation_0-merror:0.00000\tvalidation_1-merror:0.52611\n",
      "[42]\tvalidation_0-merror:0.00000\tvalidation_1-merror:0.51730\n",
      "[43]\tvalidation_0-merror:0.00000\tvalidation_1-merror:0.52611\n",
      "[44]\tvalidation_0-merror:0.00000\tvalidation_1-merror:0.52611\n",
      "[45]\tvalidation_0-merror:0.00000\tvalidation_1-merror:0.51975\n",
      "[46]\tvalidation_0-merror:0.00000\tvalidation_1-merror:0.51975\n",
      "[47]\tvalidation_0-merror:0.00000\tvalidation_1-merror:0.51975\n",
      "[48]\tvalidation_0-merror:0.00000\tvalidation_1-merror:0.51975\n",
      "[49]\tvalidation_0-merror:0.00000\tvalidation_1-merror:0.51975\n",
      "[50]\tvalidation_0-merror:0.00000\tvalidation_1-merror:0.51975\n",
      "[51]\tvalidation_0-merror:0.00000\tvalidation_1-merror:0.51730\n",
      "[52]\tvalidation_0-merror:0.00000\tvalidation_1-merror:0.50214\n",
      "[53]\tvalidation_0-merror:0.00000\tvalidation_1-merror:0.50849\n",
      "[54]\tvalidation_0-merror:0.00000\tvalidation_1-merror:0.52120\n",
      "[55]\tvalidation_0-merror:0.00000\tvalidation_1-merror:0.50849\n",
      "[56]\tvalidation_0-merror:0.00000\tvalidation_1-merror:0.51484\n",
      "[57]\tvalidation_0-merror:0.00000\tvalidation_1-merror:0.50849\n",
      "[58]\tvalidation_0-merror:0.00000\tvalidation_1-merror:0.51484\n",
      "[59]\tvalidation_0-merror:0.00000\tvalidation_1-merror:0.52120\n",
      "[60]\tvalidation_0-merror:0.00000\tvalidation_1-merror:0.52120\n",
      "[61]\tvalidation_0-merror:0.00000\tvalidation_1-merror:0.52120\n",
      "[62]\tvalidation_0-merror:0.00000\tvalidation_1-merror:0.52120\n",
      "[63]\tvalidation_0-merror:0.00000\tvalidation_1-merror:0.52120\n",
      "[64]\tvalidation_0-merror:0.00000\tvalidation_1-merror:0.52755\n",
      "[65]\tvalidation_0-merror:0.00000\tvalidation_1-merror:0.52755\n",
      "[66]\tvalidation_0-merror:0.00000\tvalidation_1-merror:0.52755\n",
      "[67]\tvalidation_0-merror:0.00000\tvalidation_1-merror:0.52120\n",
      "[68]\tvalidation_0-merror:0.00000\tvalidation_1-merror:0.53001\n",
      "[69]\tvalidation_0-merror:0.00000\tvalidation_1-merror:0.52365\n",
      "[70]\tvalidation_0-merror:0.00000\tvalidation_1-merror:0.53001\n",
      "[71]\tvalidation_0-merror:0.00000\tvalidation_1-merror:0.53001\n",
      "[72]\tvalidation_0-merror:0.00000\tvalidation_1-merror:0.53001\n",
      "[73]\tvalidation_0-merror:0.00000\tvalidation_1-merror:0.53636\n",
      "[74]\tvalidation_0-merror:0.00000\tvalidation_1-merror:0.53636\n",
      "[75]\tvalidation_0-merror:0.00000\tvalidation_1-merror:0.53636\n",
      "[76]\tvalidation_0-merror:0.00000\tvalidation_1-merror:0.53001\n",
      "[77]\tvalidation_0-merror:0.00000\tvalidation_1-merror:0.53001\n",
      "[78]\tvalidation_0-merror:0.00000\tvalidation_1-merror:0.53001\n",
      "[79]\tvalidation_0-merror:0.00000\tvalidation_1-merror:0.53001\n",
      "[80]\tvalidation_0-merror:0.00000\tvalidation_1-merror:0.53001\n",
      "[81]\tvalidation_0-merror:0.00000\tvalidation_1-merror:0.53001\n",
      "[82]\tvalidation_0-merror:0.00000\tvalidation_1-merror:0.53001\n",
      "[83]\tvalidation_0-merror:0.00000\tvalidation_1-merror:0.49400\n",
      "[84]\tvalidation_0-merror:0.00000\tvalidation_1-merror:0.50035\n",
      "[85]\tvalidation_0-merror:0.00000\tvalidation_1-merror:0.50035\n",
      "[86]\tvalidation_0-merror:0.00000\tvalidation_1-merror:0.53636\n",
      "[87]\tvalidation_0-merror:0.00000\tvalidation_1-merror:0.53636\n",
      "[88]\tvalidation_0-merror:0.00000\tvalidation_1-merror:0.53636\n",
      "[89]\tvalidation_0-merror:0.00000\tvalidation_1-merror:0.53636\n",
      "[90]\tvalidation_0-merror:0.00000\tvalidation_1-merror:0.53636\n",
      "[91]\tvalidation_0-merror:0.00000\tvalidation_1-merror:0.53636\n",
      "[92]\tvalidation_0-merror:0.00000\tvalidation_1-merror:0.53636\n",
      "[93]\tvalidation_0-merror:0.00000\tvalidation_1-merror:0.53636\n",
      "[94]\tvalidation_0-merror:0.00000\tvalidation_1-merror:0.53636\n",
      "[95]\tvalidation_0-merror:0.00000\tvalidation_1-merror:0.53001\n",
      "[96]\tvalidation_0-merror:0.00000\tvalidation_1-merror:0.54272\n",
      "[97]\tvalidation_0-merror:0.00000\tvalidation_1-merror:0.51306\n",
      "[98]\tvalidation_0-merror:0.00000\tvalidation_1-merror:0.51306\n",
      "[99]\tvalidation_0-merror:0.00000\tvalidation_1-merror:0.51306\n",
      "[100]\tvalidation_0-merror:0.00000\tvalidation_1-merror:0.51306\n",
      "[101]\tvalidation_0-merror:0.00000\tvalidation_1-merror:0.51306\n",
      "[102]\tvalidation_0-merror:0.00000\tvalidation_1-merror:0.51306\n",
      "[103]\tvalidation_0-merror:0.00000\tvalidation_1-merror:0.51306\n",
      "[104]\tvalidation_0-merror:0.00000\tvalidation_1-merror:0.51942\n",
      "[105]\tvalidation_0-merror:0.00000\tvalidation_1-merror:0.51306\n",
      "[106]\tvalidation_0-merror:0.00000\tvalidation_1-merror:0.52789\n",
      "[107]\tvalidation_0-merror:0.00000\tvalidation_1-merror:0.51306\n",
      "[108]\tvalidation_0-merror:0.00000\tvalidation_1-merror:0.51306\n",
      "[109]\tvalidation_0-merror:0.00000\tvalidation_1-merror:0.51306\n",
      "[110]\tvalidation_0-merror:0.00000\tvalidation_1-merror:0.49824\n",
      "[111]\tvalidation_0-merror:0.00000\tvalidation_1-merror:0.49824\n",
      "[112]\tvalidation_0-merror:0.00000\tvalidation_1-merror:0.49824\n",
      "[113]\tvalidation_0-merror:0.00000\tvalidation_1-merror:0.52789\n",
      "[114]\tvalidation_0-merror:0.00000\tvalidation_1-merror:0.50459\n",
      "[115]\tvalidation_0-merror:0.00000\tvalidation_1-merror:0.49824\n",
      "[116]\tvalidation_0-merror:0.00000\tvalidation_1-merror:0.49824\n",
      "[117]\tvalidation_0-merror:0.00000\tvalidation_1-merror:0.49824\n",
      "[118]\tvalidation_0-merror:0.00000\tvalidation_1-merror:0.52789\n",
      "[119]\tvalidation_0-merror:0.00000\tvalidation_1-merror:0.52789\n"
     ]
    }
   ],
   "source": [
    "history = xgb.fit(X_train_pca, y_train_pca, \n",
    "                    eval_metric = [\"merror\"],     #multiclass error\n",
    "                    eval_set = [(X_train_pca, y_train_pca), (X_test_pca, y_test_pca)],\n",
    "                    sample_weight_eval_set = [train_weight, test_weight],\n",
    "                    verbose = True)"
   ]
  },
  {
   "cell_type": "markdown",
   "metadata": {},
   "source": [
    "### Calculate the Accuracy Score: `X_test_pca`"
   ]
  },
  {
   "cell_type": "code",
   "execution_count": 11,
   "metadata": {},
   "outputs": [
    {
     "name": "stdout",
     "output_type": "stream",
     "text": [
      "pca accuracy: 1.0\n",
      "pca accuracy: 0.547\n"
     ]
    }
   ],
   "source": [
    "### predict X_test_pca\n",
    "ytrain_pred = xgb.predict(X_train_pca)\n",
    "ytest_pred = xgb.predict(X_test_pca)\n",
    "\n",
    "### calculate the Accuracy score of X_test_pca\n",
    "train_acc = accuracy_score(y_train_pca, ytrain_pred)\n",
    "test_acc = accuracy_score(y_test_pca, ytest_pred)\n",
    "print(f\"pca accuracy: {round(train_acc, 3)}\")\n",
    "print(f\"pca accuracy: {round(test_acc, 3)}\")"
   ]
  },
  {
   "cell_type": "markdown",
   "metadata": {},
   "source": [
    "## 5.4.1.4 Model Evaluation: `XGBOOST Report`\n",
    "\n",
    "- `Normal`, precision = 68% (mfcc model6 = 78%, cwt model6 = 73%).\n",
    "- `Murmur`, precision = 40% (mfcc model6 = 81%, cwt model6 = 80%).\n",
    "- `extrahls`, `extrastole` precision = 0%, 25%((mfcc model6 = 25% & 17%, respectively)\n",
    "- `Artifact`, precision 58% (mfcc model6 = 50%, cwt model6 = 62%).\n",
    "- Overall accuracy = 55% (mfcc model6 = 70%, cwt model6 = 59%).\n",
    "\n",
    "Model not performing better compared to mfcc cnn, and cwt cnn."
   ]
  },
  {
   "cell_type": "code",
   "execution_count": 13,
   "metadata": {},
   "outputs": [
    {
     "name": "stdout",
     "output_type": "stream",
     "text": [
      "              precision    recall  f1-score   support\n",
      "\n",
      "    artifact       0.58      0.88      0.70         8\n",
      "    extrahls       0.00      0.00      0.00         4\n",
      "  extrastole       0.25      0.33      0.29         9\n",
      "      murmur       0.40      0.31      0.35        26\n",
      "      normal       0.68      0.66      0.67        70\n",
      "\n",
      "    accuracy                           0.55       117\n",
      "   macro avg       0.38      0.43      0.40       117\n",
      "weighted avg       0.55      0.55      0.55       117\n",
      "\n"
     ]
    }
   ],
   "source": [
    "classes = le.classes_\n",
    "convert_label = lambda x: classes[x]\n",
    "print(classification_report(convert_label(y_test_pca), convert_label(ytest_pred)))"
   ]
  },
  {
   "cell_type": "markdown",
   "metadata": {},
   "source": [
    "### Confusion Matrix"
   ]
  },
  {
   "cell_type": "code",
   "execution_count": 14,
   "metadata": {},
   "outputs": [],
   "source": [
    "def plot_confusion_matrix(cm, classes,\n",
    "                          title='Confusion matrix',\n",
    "                          cmap=plt.cm.Blues):\n",
    "    \"\"\"\n",
    "    This function prints and plots the confusion matrix.\n",
    "    Normalization can be applied by setting `normalize=True`.\n",
    "    \"\"\"\n",
    "    plt.figure(figsize=(7, 7))\n",
    "    plt.imshow(cm, interpolation='nearest', cmap=cmap)\n",
    "    plt.title(title, fontsize=18)\n",
    "    tick_marks = np.arange(len(classes))\n",
    "    plt.xticks(tick_marks, classes, rotation=60, fontsize=14)\n",
    "    plt.yticks(tick_marks, classes, fontsize=14)\n",
    "\n",
    "    fmt = '.2f'\n",
    "    thresh = cm.max() / 2.\n",
    "    for i, j in itertools.product(range(cm.shape[0]), range(cm.shape[1])):\n",
    "        plt.text(j, i, format(cm[i, j], fmt),\n",
    "                 horizontalalignment=\"center\",\n",
    "                 color=\"white\" if cm[i, j] > thresh else \"black\")\n",
    "\n",
    "    plt.ylabel('True label', fontsize=14)\n",
    "    plt.xlabel('Predicted label', fontsize=14)\n",
    "    plt.tight_layout()\n",
    "\n",
    "    plt.show()"
   ]
  },
  {
   "cell_type": "markdown",
   "metadata": {},
   "source": [
    "### Confusion Matrix\n",
    "- Results show that the model predict most of the audio from the majority class, that is `Normal` category. This is not desirable.\n",
    "- Asides, the train accuracy > test accuracy, which indicated the model is overfitting."
   ]
  },
  {
   "cell_type": "code",
   "execution_count": 15,
   "metadata": {},
   "outputs": [
    {
     "name": "stdout",
     "output_type": "stream",
     "text": [
      "[[ 7  0  0  1  0]\n",
      " [ 0  0  0  1  3]\n",
      " [ 0  0  3  0  6]\n",
      " [ 1  1  3  8 13]\n",
      " [ 4  4  6 10 46]]\n"
     ]
    },
    {
     "data": {
      "image/png": "[encoded data removed]",
      "text/plain": [
       "<Figure size 504x504 with 1 Axes>"
      ]
     },
     "metadata": {
      "needs_background": "light"
     },
     "output_type": "display_data"
    }
   ],
   "source": [
    "### Confusion Matrix from PCA\n",
    "cnf_matrix = confusion_matrix(y_test_pca, ytest_pred)\n",
    "print(cnf_matrix)\n",
    "\n",
    "### Plot confusion matrix\n",
    "cnf_matrix = cnf_matrix.astype(float) / cnf_matrix.sum(axis=1)[:, np.newaxis]\n",
    "plot_confusion_matrix(cnf_matrix, classes)"
   ]
  },
  {
   "cell_type": "markdown",
   "metadata": {},
   "source": [
    "## 5.4.1.5 Hyperparameter Optimization using RandomizedSearchCV"
   ]
  },
  {
   "cell_type": "markdown",
   "metadata": {},
   "source": [
    "### Set hyperparameters that would like to optimize using RandomizedSearchCV"
   ]
  },
  {
   "cell_type": "code",
   "execution_count": 16,
   "metadata": {},
   "outputs": [],
   "source": [
    "params = {\n",
    "    \"eta\" : [0.0001, 0.001, 0.01, 0,1],\n",
    "    \"gamma\" : [0.001, 0.01, 0.05, 0.1, 0.3], \n",
    "    \"max_depth\":[5, 7, 8, 9, 10, 11],\n",
    "    \"colsample_bytree\": [0.3, 0.5, 0.6, 0.8],\n",
    "    \"subsample\" : [0.3, 0.5,0.6,0.8],\n",
    "    \"reg_alpha\" : [0.0, 0.5],\n",
    "    \"reg_lambda\" : [1, 1.5, 2],\n",
    "    \"n_estimators\" : [40, 50, 60, 80, 100, 120]  \n",
    "    }"
   ]
  },
  {
   "cell_type": "code",
   "execution_count": 17,
   "metadata": {},
   "outputs": [
    {
     "name": "stdout",
     "output_type": "stream",
     "text": [
      "Fitting 3 folds for each of 10 candidates, totalling 30 fits\n",
      "[CV] subsample=0.6, reg_lambda=1.5, reg_alpha=0.0, n_estimators=50, max_depth=11, gamma=0.1, eta=0, colsample_bytree=0.3 \n"
     ]
    },
    {
     "name": "stderr",
     "output_type": "stream",
     "text": [
      "[Parallel(n_jobs=1)]: Using backend SequentialBackend with 1 concurrent workers.\n"
     ]
    },
    {
     "name": "stdout",
     "output_type": "stream",
     "text": [
      "[CV]  subsample=0.6, reg_lambda=1.5, reg_alpha=0.0, n_estimators=50, max_depth=11, gamma=0.1, eta=0, colsample_bytree=0.3, score=0.224, total=   0.6s\n",
      "[CV] subsample=0.6, reg_lambda=1.5, reg_alpha=0.0, n_estimators=50, max_depth=11, gamma=0.1, eta=0, colsample_bytree=0.3 \n"
     ]
    },
    {
     "name": "stderr",
     "output_type": "stream",
     "text": [
      "[Parallel(n_jobs=1)]: Done   1 out of   1 | elapsed:    0.6s remaining:    0.0s\n"
     ]
    },
    {
     "name": "stdout",
     "output_type": "stream",
     "text": [
      "[CV]  subsample=0.6, reg_lambda=1.5, reg_alpha=0.0, n_estimators=50, max_depth=11, gamma=0.1, eta=0, colsample_bytree=0.3, score=0.225, total=   0.6s\n",
      "[CV] subsample=0.6, reg_lambda=1.5, reg_alpha=0.0, n_estimators=50, max_depth=11, gamma=0.1, eta=0, colsample_bytree=0.3 \n"
     ]
    },
    {
     "name": "stderr",
     "output_type": "stream",
     "text": [
      "[Parallel(n_jobs=1)]: Done   2 out of   2 | elapsed:    1.2s remaining:    0.0s\n"
     ]
    },
    {
     "name": "stdout",
     "output_type": "stream",
     "text": [
      "[CV]  subsample=0.6, reg_lambda=1.5, reg_alpha=0.0, n_estimators=50, max_depth=11, gamma=0.1, eta=0, colsample_bytree=0.3, score=0.225, total=   0.6s\n",
      "[CV] subsample=0.3, reg_lambda=1, reg_alpha=0.0, n_estimators=60, max_depth=7, gamma=0.05, eta=1, colsample_bytree=0.6 \n",
      "[CV]  subsample=0.3, reg_lambda=1, reg_alpha=0.0, n_estimators=60, max_depth=7, gamma=0.05, eta=1, colsample_bytree=0.6, score=0.815, total=   0.6s\n",
      "[CV] subsample=0.3, reg_lambda=1, reg_alpha=0.0, n_estimators=60, max_depth=7, gamma=0.05, eta=1, colsample_bytree=0.6 \n",
      "[CV]  subsample=0.3, reg_lambda=1, reg_alpha=0.0, n_estimators=60, max_depth=7, gamma=0.05, eta=1, colsample_bytree=0.6, score=0.792, total=   0.5s\n",
      "[CV] subsample=0.3, reg_lambda=1, reg_alpha=0.0, n_estimators=60, max_depth=7, gamma=0.05, eta=1, colsample_bytree=0.6 \n",
      "[CV]  subsample=0.3, reg_lambda=1, reg_alpha=0.0, n_estimators=60, max_depth=7, gamma=0.05, eta=1, colsample_bytree=0.6, score=0.835, total=   0.5s\n",
      "[CV] subsample=0.5, reg_lambda=1, reg_alpha=0.5, n_estimators=40, max_depth=7, gamma=0.3, eta=1, colsample_bytree=0.8 \n",
      "[CV]  subsample=0.5, reg_lambda=1, reg_alpha=0.5, n_estimators=40, max_depth=7, gamma=0.3, eta=1, colsample_bytree=0.8, score=0.825, total=   0.8s\n",
      "[CV] subsample=0.5, reg_lambda=1, reg_alpha=0.5, n_estimators=40, max_depth=7, gamma=0.3, eta=1, colsample_bytree=0.8 \n",
      "[CV]  subsample=0.5, reg_lambda=1, reg_alpha=0.5, n_estimators=40, max_depth=7, gamma=0.3, eta=1, colsample_bytree=0.8, score=0.813, total=   0.7s\n",
      "[CV] subsample=0.5, reg_lambda=1, reg_alpha=0.5, n_estimators=40, max_depth=7, gamma=0.3, eta=1, colsample_bytree=0.8 \n",
      "[CV]  subsample=0.5, reg_lambda=1, reg_alpha=0.5, n_estimators=40, max_depth=7, gamma=0.3, eta=1, colsample_bytree=0.8, score=0.849, total=   0.7s\n",
      "[CV] subsample=0.5, reg_lambda=1.5, reg_alpha=0.0, n_estimators=120, max_depth=9, gamma=0.05, eta=1, colsample_bytree=0.6 \n",
      "[CV]  subsample=0.5, reg_lambda=1.5, reg_alpha=0.0, n_estimators=120, max_depth=9, gamma=0.05, eta=1, colsample_bytree=0.6, score=0.815, total=   1.0s\n",
      "[CV] subsample=0.5, reg_lambda=1.5, reg_alpha=0.0, n_estimators=120, max_depth=9, gamma=0.05, eta=1, colsample_bytree=0.6 \n",
      "[CV]  subsample=0.5, reg_lambda=1.5, reg_alpha=0.0, n_estimators=120, max_depth=9, gamma=0.05, eta=1, colsample_bytree=0.6, score=0.806, total=   1.0s\n",
      "[CV] subsample=0.5, reg_lambda=1.5, reg_alpha=0.0, n_estimators=120, max_depth=9, gamma=0.05, eta=1, colsample_bytree=0.6 \n",
      "[CV]  subsample=0.5, reg_lambda=1.5, reg_alpha=0.0, n_estimators=120, max_depth=9, gamma=0.05, eta=1, colsample_bytree=0.6, score=0.849, total=   1.0s\n",
      "[CV] subsample=0.3, reg_lambda=2, reg_alpha=0.5, n_estimators=120, max_depth=11, gamma=0.3, eta=0, colsample_bytree=0.3 \n",
      "[CV]  subsample=0.3, reg_lambda=2, reg_alpha=0.5, n_estimators=120, max_depth=11, gamma=0.3, eta=0, colsample_bytree=0.3, score=0.224, total=   0.8s\n",
      "[CV] subsample=0.3, reg_lambda=2, reg_alpha=0.5, n_estimators=120, max_depth=11, gamma=0.3, eta=0, colsample_bytree=0.3 \n",
      "[CV]  subsample=0.3, reg_lambda=2, reg_alpha=0.5, n_estimators=120, max_depth=11, gamma=0.3, eta=0, colsample_bytree=0.3, score=0.225, total=   0.8s\n",
      "[CV] subsample=0.3, reg_lambda=2, reg_alpha=0.5, n_estimators=120, max_depth=11, gamma=0.3, eta=0, colsample_bytree=0.3 \n",
      "[CV]  subsample=0.3, reg_lambda=2, reg_alpha=0.5, n_estimators=120, max_depth=11, gamma=0.3, eta=0, colsample_bytree=0.3, score=0.225, total=   0.8s\n",
      "[CV] subsample=0.3, reg_lambda=1.5, reg_alpha=0.0, n_estimators=50, max_depth=5, gamma=0.001, eta=0.001, colsample_bytree=0.8 \n",
      "[CV]  subsample=0.3, reg_lambda=1.5, reg_alpha=0.0, n_estimators=50, max_depth=5, gamma=0.001, eta=0.001, colsample_bytree=0.8, score=0.703, total=   1.0s\n",
      "[CV] subsample=0.3, reg_lambda=1.5, reg_alpha=0.0, n_estimators=50, max_depth=5, gamma=0.001, eta=0.001, colsample_bytree=0.8 \n",
      "[CV]  subsample=0.3, reg_lambda=1.5, reg_alpha=0.0, n_estimators=50, max_depth=5, gamma=0.001, eta=0.001, colsample_bytree=0.8, score=0.697, total=   1.0s\n",
      "[CV] subsample=0.3, reg_lambda=1.5, reg_alpha=0.0, n_estimators=50, max_depth=5, gamma=0.001, eta=0.001, colsample_bytree=0.8 \n",
      "[CV]  subsample=0.3, reg_lambda=1.5, reg_alpha=0.0, n_estimators=50, max_depth=5, gamma=0.001, eta=0.001, colsample_bytree=0.8, score=0.718, total=   1.0s\n",
      "[CV] subsample=0.8, reg_lambda=1.5, reg_alpha=0.0, n_estimators=100, max_depth=9, gamma=0.05, eta=0.001, colsample_bytree=0.5 \n",
      "[CV]  subsample=0.8, reg_lambda=1.5, reg_alpha=0.0, n_estimators=100, max_depth=9, gamma=0.05, eta=0.001, colsample_bytree=0.5, score=0.773, total=   2.4s\n",
      "[CV] subsample=0.8, reg_lambda=1.5, reg_alpha=0.0, n_estimators=100, max_depth=9, gamma=0.05, eta=0.001, colsample_bytree=0.5 \n",
      "[CV]  subsample=0.8, reg_lambda=1.5, reg_alpha=0.0, n_estimators=100, max_depth=9, gamma=0.05, eta=0.001, colsample_bytree=0.5, score=0.778, total=   2.5s\n",
      "[CV] subsample=0.8, reg_lambda=1.5, reg_alpha=0.0, n_estimators=100, max_depth=9, gamma=0.05, eta=0.001, colsample_bytree=0.5 \n",
      "[CV]  subsample=0.8, reg_lambda=1.5, reg_alpha=0.0, n_estimators=100, max_depth=9, gamma=0.05, eta=0.001, colsample_bytree=0.5, score=0.827, total=   2.0s\n",
      "[CV] subsample=0.8, reg_lambda=1.5, reg_alpha=0.5, n_estimators=80, max_depth=11, gamma=0.05, eta=0.01, colsample_bytree=0.5 \n",
      "[CV]  subsample=0.8, reg_lambda=1.5, reg_alpha=0.5, n_estimators=80, max_depth=11, gamma=0.05, eta=0.01, colsample_bytree=0.5, score=0.783, total=   2.1s\n",
      "[CV] subsample=0.8, reg_lambda=1.5, reg_alpha=0.5, n_estimators=80, max_depth=11, gamma=0.05, eta=0.01, colsample_bytree=0.5 \n",
      "[CV]  subsample=0.8, reg_lambda=1.5, reg_alpha=0.5, n_estimators=80, max_depth=11, gamma=0.05, eta=0.01, colsample_bytree=0.5, score=0.803, total=   2.3s\n",
      "[CV] subsample=0.8, reg_lambda=1.5, reg_alpha=0.5, n_estimators=80, max_depth=11, gamma=0.05, eta=0.01, colsample_bytree=0.5 \n",
      "[CV]  subsample=0.8, reg_lambda=1.5, reg_alpha=0.5, n_estimators=80, max_depth=11, gamma=0.05, eta=0.01, colsample_bytree=0.5, score=0.820, total=   2.2s\n",
      "[CV] subsample=0.3, reg_lambda=1.5, reg_alpha=0.0, n_estimators=120, max_depth=9, gamma=0.1, eta=0, colsample_bytree=0.3 \n",
      "[CV]  subsample=0.3, reg_lambda=1.5, reg_alpha=0.0, n_estimators=120, max_depth=9, gamma=0.1, eta=0, colsample_bytree=0.3, score=0.224, total=   0.9s\n",
      "[CV] subsample=0.3, reg_lambda=1.5, reg_alpha=0.0, n_estimators=120, max_depth=9, gamma=0.1, eta=0, colsample_bytree=0.3 \n",
      "[CV]  subsample=0.3, reg_lambda=1.5, reg_alpha=0.0, n_estimators=120, max_depth=9, gamma=0.1, eta=0, colsample_bytree=0.3, score=0.225, total=   0.9s\n",
      "[CV] subsample=0.3, reg_lambda=1.5, reg_alpha=0.0, n_estimators=120, max_depth=9, gamma=0.1, eta=0, colsample_bytree=0.3 \n",
      "[CV]  subsample=0.3, reg_lambda=1.5, reg_alpha=0.0, n_estimators=120, max_depth=9, gamma=0.1, eta=0, colsample_bytree=0.3, score=0.225, total=   0.9s\n",
      "[CV] subsample=0.6, reg_lambda=1, reg_alpha=0.0, n_estimators=60, max_depth=5, gamma=0.05, eta=0.0001, colsample_bytree=0.3 \n",
      "[CV]  subsample=0.6, reg_lambda=1, reg_alpha=0.0, n_estimators=60, max_depth=5, gamma=0.05, eta=0.0001, colsample_bytree=0.3, score=0.752, total=   0.6s\n",
      "[CV] subsample=0.6, reg_lambda=1, reg_alpha=0.0, n_estimators=60, max_depth=5, gamma=0.05, eta=0.0001, colsample_bytree=0.3 \n",
      "[CV]  subsample=0.6, reg_lambda=1, reg_alpha=0.0, n_estimators=60, max_depth=5, gamma=0.05, eta=0.0001, colsample_bytree=0.3, score=0.782, total=   0.6s\n",
      "[CV] subsample=0.6, reg_lambda=1, reg_alpha=0.0, n_estimators=60, max_depth=5, gamma=0.05, eta=0.0001, colsample_bytree=0.3 \n",
      "[CV]  subsample=0.6, reg_lambda=1, reg_alpha=0.0, n_estimators=60, max_depth=5, gamma=0.05, eta=0.0001, colsample_bytree=0.3, score=0.768, total=   0.7s\n"
     ]
    },
    {
     "name": "stderr",
     "output_type": "stream",
     "text": [
      "[Parallel(n_jobs=1)]: Done  30 out of  30 | elapsed:   32.0s finished\n"
     ]
    },
    {
     "name": "stdout",
     "output_type": "stream",
     "text": [
      "best estimator: {'subsample': 0.5, 'reg_lambda': 1, 'reg_alpha': 0.5, 'n_estimators': 40, 'max_depth': 7, 'gamma': 0.3, 'eta': 1, 'colsample_bytree': 0.8}\n",
      "best score: 0.8290398126463701\n"
     ]
    }
   ],
   "source": [
    "xgb_clf = XGBClassifier(objective = 'multi:softmax', eval_metric = [\"merror\", \"map\", \"auc\"])\n",
    "### Create RandomizedSearchCV\n",
    "\n",
    "rscv = RandomizedSearchCV(xgb_clf , \n",
    "                      param_distributions= params, cv = 3, verbose =3)\n",
    "model_xgboost = rscv.fit(X_train_pca, y_train_pca)\n",
    "\n",
    "# model best estimators\n",
    "print(f\"best estimator: {model_xgboost.best_params_}\")\n",
    "print(f\"best score: {model_xgboost.best_score_}\")"
   ]
  },
  {
   "cell_type": "code",
   "execution_count": 18,
   "metadata": {},
   "outputs": [
    {
     "name": "stdout",
     "output_type": "stream",
     "text": [
      "train score: 0.829\n",
      "test score: 0.53\n"
     ]
    }
   ],
   "source": [
    "### RandomSearchCV results\n",
    "print(f\"train score: {round(model_xgboost.best_score_, 3)}\")\n",
    "print(f\"test score: {round(model_xgboost.score(X_test_pca, y_test_pca),3)}\")"
   ]
  },
  {
   "cell_type": "markdown",
   "metadata": {},
   "source": [
    "## 5.4.1.6 XGBOOST with optimal hyperparameter from RandomizedSearchCV"
   ]
  },
  {
   "cell_type": "markdown",
   "metadata": {},
   "source": [
    "### Instantiate model with optimal hyperparameter"
   ]
  },
  {
   "cell_type": "code",
   "execution_count": 19,
   "metadata": {},
   "outputs": [],
   "source": [
    "xgb2 = XGBClassifier(max_depth = 7, \n",
    "                    objective = 'multi:softmax', #multiclass classification using the softmax \n",
    "                    num_class = 5, \n",
    "                    subsample = 0.5, colsample_bytree = 0.8,   \n",
    "                    n_estimators = 40,\n",
    "                    eta = 1, gamma = 0.3,\n",
    "                    reg_alpha = 0.5, reg_lambda = 1)"
   ]
  },
  {
   "cell_type": "code",
   "execution_count": 20,
   "metadata": {},
   "outputs": [
    {
     "name": "stdout",
     "output_type": "stream",
     "text": [
      "[0]\tvalidation_0-merror:0.15896\tvalidation_1-merror:0.56436\n",
      "[1]\tvalidation_0-merror:0.09291\tvalidation_1-merror:0.55834\n",
      "[2]\tvalidation_0-merror:0.07215\tvalidation_1-merror:0.55265\n",
      "[3]\tvalidation_0-merror:0.05675\tvalidation_1-merror:0.58363\n",
      "[4]\tvalidation_0-merror:0.03415\tvalidation_1-merror:0.56602\n",
      "[5]\tvalidation_0-merror:0.02843\tvalidation_1-merror:0.56602\n",
      "[6]\tvalidation_0-merror:0.01999\tvalidation_1-merror:0.58363\n",
      "[7]\tvalidation_0-merror:0.01396\tvalidation_1-merror:0.56212\n",
      "[8]\tvalidation_0-merror:0.00821\tvalidation_1-merror:0.56847\n",
      "[9]\tvalidation_0-merror:0.00892\tvalidation_1-merror:0.55821\n",
      "[10]\tvalidation_0-merror:0.00678\tvalidation_1-merror:0.55186\n",
      "[11]\tvalidation_0-merror:0.00801\tvalidation_1-merror:0.54941\n",
      "[12]\tvalidation_0-merror:0.00535\tvalidation_1-merror:0.54305\n",
      "[13]\tvalidation_0-merror:0.00507\tvalidation_1-merror:0.54060\n",
      "[14]\tvalidation_0-merror:0.00607\tvalidation_1-merror:0.55576\n",
      "[15]\tvalidation_0-merror:0.00337\tvalidation_1-merror:0.54305\n",
      "[16]\tvalidation_0-merror:0.00337\tvalidation_1-merror:0.53670\n",
      "[17]\tvalidation_0-merror:0.00337\tvalidation_1-merror:0.54060\n",
      "[18]\tvalidation_0-merror:0.00337\tvalidation_1-merror:0.54305\n",
      "[19]\tvalidation_0-merror:0.00238\tvalidation_1-merror:0.54305\n",
      "[20]\tvalidation_0-merror:0.00238\tvalidation_1-merror:0.54941\n",
      "[21]\tvalidation_0-merror:0.00238\tvalidation_1-merror:0.54305\n",
      "[22]\tvalidation_0-merror:0.00238\tvalidation_1-merror:0.54305\n",
      "[23]\tvalidation_0-merror:0.00238\tvalidation_1-merror:0.54305\n",
      "[24]\tvalidation_0-merror:0.00238\tvalidation_1-merror:0.54305\n",
      "[25]\tvalidation_0-merror:0.00071\tvalidation_1-merror:0.54305\n",
      "[26]\tvalidation_0-merror:0.00071\tvalidation_1-merror:0.53670\n",
      "[27]\tvalidation_0-merror:0.00071\tvalidation_1-merror:0.53670\n",
      "[28]\tvalidation_0-merror:0.00143\tvalidation_1-merror:0.53670\n",
      "[29]\tvalidation_0-merror:0.00071\tvalidation_1-merror:0.53670\n",
      "[30]\tvalidation_0-merror:0.00071\tvalidation_1-merror:0.53670\n",
      "[31]\tvalidation_0-merror:0.00071\tvalidation_1-merror:0.53670\n",
      "[32]\tvalidation_0-merror:0.00071\tvalidation_1-merror:0.54305\n",
      "[33]\tvalidation_0-merror:0.00143\tvalidation_1-merror:0.53034\n",
      "[34]\tvalidation_0-merror:0.00071\tvalidation_1-merror:0.53670\n",
      "[35]\tvalidation_0-merror:0.00071\tvalidation_1-merror:0.53670\n",
      "[36]\tvalidation_0-merror:0.00143\tvalidation_1-merror:0.53670\n",
      "[37]\tvalidation_0-merror:0.00071\tvalidation_1-merror:0.54305\n",
      "[38]\tvalidation_0-merror:0.00071\tvalidation_1-merror:0.54305\n",
      "[39]\tvalidation_0-merror:0.00071\tvalidation_1-merror:0.53670\n"
     ]
    }
   ],
   "source": [
    "history2 = xgb2.fit(X_train_pca, y_train_pca, \n",
    "                    eval_metric = [\"merror\"],     #multiclass error\n",
    "                    eval_set = [(X_train_pca, y_train_pca), (X_test_pca, y_test_pca)],\n",
    "                    sample_weight_eval_set = [train_weight, test_weight],\n",
    "                    verbose = True)"
   ]
  },
  {
   "cell_type": "markdown",
   "metadata": {},
   "source": [
    "### Calculate the Accuracy Score: `X_test_pca` "
   ]
  },
  {
   "cell_type": "code",
   "execution_count": 21,
   "metadata": {},
   "outputs": [
    {
     "name": "stdout",
     "output_type": "stream",
     "text": [
      "pca2 train accuracy: 0.999\n",
      "pca2 test accuracy: 0.53\n"
     ]
    }
   ],
   "source": [
    "### predict X_test_pca\n",
    "ytrain_pred_pca2 = xgb2.predict(X_train_pca)\n",
    "ytest_pred_pca2 = xgb2.predict(X_test_pca)\n",
    "\n",
    "### calculate the Accuracy score of X_test_pca\n",
    "train_pca2_acc = accuracy_score(y_train_pca, ytrain_pred_pca2)\n",
    "test_pca2_acc = accuracy_score(y_test_pca, ytest_pred_pca2)\n",
    "print(f\"pca2 train accuracy: {round(train_pca2_acc, 3)}\")\n",
    "print(f\"pca2 test accuracy: {round(test_pca2_acc, 3)}\")"
   ]
  },
  {
   "cell_type": "markdown",
   "metadata": {},
   "source": [
    "## 5.4.7 Model Evaluation: `XGBOOST with optimal hyperparameter Report`\n",
    "\n",
    "- `Normal`, precision = 68% (mfcc model6 = 80%, cwt model6 = 83%).\n",
    "- `Murmur`, precision = 37% (mfcc model6 = 65%, cwt model6 = 55%).\n",
    "- `extrahls`, `extrastole` precision = 25%, 31%((mfcc model6 = 20% & 67%, respectively)\n",
    "- `Artifact`, precision 64% (mfcc model6 = 50%, cwt model6 = 53%).\n",
    "- Overall accuracy = 56% (mfcc model6 = 68%, cwt model6 = 58%).\n",
    "\n",
    "Model not performing better compared to mfcc cnn, and cwt cnn. But it does performing slightly better after hyperparameter tunning."
   ]
  },
  {
   "cell_type": "code",
   "execution_count": 22,
   "metadata": {},
   "outputs": [
    {
     "name": "stdout",
     "output_type": "stream",
     "text": [
      "              precision    recall  f1-score   support\n",
      "\n",
      "    artifact       0.58      0.88      0.70         8\n",
      "    extrahls       0.17      0.25      0.20         4\n",
      "  extrastole       0.12      0.11      0.12         9\n",
      "      murmur       0.32      0.27      0.29        26\n",
      "      normal       0.67      0.66      0.66        70\n",
      "\n",
      "    accuracy                           0.53       117\n",
      "   macro avg       0.37      0.43      0.39       117\n",
      "weighted avg       0.52      0.53      0.52       117\n",
      "\n"
     ]
    }
   ],
   "source": [
    "convert_label = lambda x: classes[x]\n",
    "print(classification_report(convert_label(y_test_pca), convert_label(ytest_pred_pca2)))"
   ]
  },
  {
   "cell_type": "code",
   "execution_count": 25,
   "metadata": {},
   "outputs": [
    {
     "name": "stdout",
     "output_type": "stream",
     "text": [
      "[[ 7  0  0  1  0]\n",
      " [ 0  1  0  1  2]\n",
      " [ 0  0  1  1  7]\n",
      " [ 1  1  3  7 14]\n",
      " [ 4  4  4 12 46]]\n"
     ]
    },
    {
     "data": {
      "image/png": "[encoded data removed]",
      "text/plain": [
       "<Figure size 504x504 with 1 Axes>"
      ]
     },
     "metadata": {
      "needs_background": "light"
     },
     "output_type": "display_data"
    }
   ],
   "source": [
    "### Confusion Matrix from PCA\n",
    "cnf_matrix2 = confusion_matrix(y_test_pca, ytest_pred_pca2)\n",
    "print(cnf_matrix2)\n",
    "\n",
    "classes = le.classes_\n",
    "### Plot confusion matrix\n",
    "cnf_matrix2 = cnf_matrix2.astype(float) / cnf_matrix2.sum(axis=1)[:, np.newaxis]\n",
    "plot_confusion_matrix(cnf_matrix2, classes)"
   ]
  },
  {
   "cell_type": "markdown",
   "metadata": {},
   "source": [
    "### Category that was wrongly classify by CWT_XGBOOST model"
   ]
  },
  {
   "cell_type": "code",
   "execution_count": 27,
   "metadata": {},
   "outputs": [
    {
     "name": "stdout",
     "output_type": "stream",
     "text": [
      "number of wrong prediction: 55/117\n"
     ]
    },
    {
     "data": {
      "text/html": [
       "<div>\n",
       "<style scoped>\n",
       "    .dataframe tbody tr th:only-of-type {\n",
       "        vertical-align: middle;\n",
       "    }\n",
       "\n",
       "    .dataframe tbody tr th {\n",
       "        vertical-align: top;\n",
       "    }\n",
       "\n",
       "    .dataframe thead th {\n",
       "        text-align: right;\n",
       "    }\n",
       "</style>\n",
       "<table border=\"1\" class=\"dataframe\">\n",
       "  <thead>\n",
       "    <tr style=\"text-align: right;\">\n",
       "      <th></th>\n",
       "      <th>label</th>\n",
       "      <th>pred_label</th>\n",
       "    </tr>\n",
       "  </thead>\n",
       "  <tbody>\n",
       "    <tr>\n",
       "      <th>2</th>\n",
       "      <td>normal</td>\n",
       "      <td>artifact</td>\n",
       "    </tr>\n",
       "    <tr>\n",
       "      <th>4</th>\n",
       "      <td>normal</td>\n",
       "      <td>artifact</td>\n",
       "    </tr>\n",
       "    <tr>\n",
       "      <th>7</th>\n",
       "      <td>extrastole</td>\n",
       "      <td>normal</td>\n",
       "    </tr>\n",
       "    <tr>\n",
       "      <th>8</th>\n",
       "      <td>artifact</td>\n",
       "      <td>murmur</td>\n",
       "    </tr>\n",
       "    <tr>\n",
       "      <th>9</th>\n",
       "      <td>normal</td>\n",
       "      <td>murmur</td>\n",
       "    </tr>\n",
       "    <tr>\n",
       "      <th>10</th>\n",
       "      <td>normal</td>\n",
       "      <td>murmur</td>\n",
       "    </tr>\n",
       "    <tr>\n",
       "      <th>12</th>\n",
       "      <td>extrahls</td>\n",
       "      <td>murmur</td>\n",
       "    </tr>\n",
       "    <tr>\n",
       "      <th>15</th>\n",
       "      <td>normal</td>\n",
       "      <td>extrahls</td>\n",
       "    </tr>\n",
       "    <tr>\n",
       "      <th>16</th>\n",
       "      <td>murmur</td>\n",
       "      <td>extrastole</td>\n",
       "    </tr>\n",
       "    <tr>\n",
       "      <th>20</th>\n",
       "      <td>murmur</td>\n",
       "      <td>normal</td>\n",
       "    </tr>\n",
       "    <tr>\n",
       "      <th>24</th>\n",
       "      <td>normal</td>\n",
       "      <td>extrastole</td>\n",
       "    </tr>\n",
       "    <tr>\n",
       "      <th>25</th>\n",
       "      <td>normal</td>\n",
       "      <td>artifact</td>\n",
       "    </tr>\n",
       "    <tr>\n",
       "      <th>28</th>\n",
       "      <td>normal</td>\n",
       "      <td>murmur</td>\n",
       "    </tr>\n",
       "    <tr>\n",
       "      <th>32</th>\n",
       "      <td>murmur</td>\n",
       "      <td>normal</td>\n",
       "    </tr>\n",
       "    <tr>\n",
       "      <th>36</th>\n",
       "      <td>extrahls</td>\n",
       "      <td>normal</td>\n",
       "    </tr>\n",
       "    <tr>\n",
       "      <th>37</th>\n",
       "      <td>normal</td>\n",
       "      <td>murmur</td>\n",
       "    </tr>\n",
       "    <tr>\n",
       "      <th>39</th>\n",
       "      <td>murmur</td>\n",
       "      <td>extrastole</td>\n",
       "    </tr>\n",
       "    <tr>\n",
       "      <th>41</th>\n",
       "      <td>normal</td>\n",
       "      <td>artifact</td>\n",
       "    </tr>\n",
       "    <tr>\n",
       "      <th>42</th>\n",
       "      <td>murmur</td>\n",
       "      <td>extrahls</td>\n",
       "    </tr>\n",
       "    <tr>\n",
       "      <th>44</th>\n",
       "      <td>normal</td>\n",
       "      <td>murmur</td>\n",
       "    </tr>\n",
       "    <tr>\n",
       "      <th>45</th>\n",
       "      <td>extrahls</td>\n",
       "      <td>normal</td>\n",
       "    </tr>\n",
       "    <tr>\n",
       "      <th>46</th>\n",
       "      <td>murmur</td>\n",
       "      <td>normal</td>\n",
       "    </tr>\n",
       "    <tr>\n",
       "      <th>49</th>\n",
       "      <td>normal</td>\n",
       "      <td>extrastole</td>\n",
       "    </tr>\n",
       "    <tr>\n",
       "      <th>56</th>\n",
       "      <td>murmur</td>\n",
       "      <td>normal</td>\n",
       "    </tr>\n",
       "    <tr>\n",
       "      <th>58</th>\n",
       "      <td>normal</td>\n",
       "      <td>extrastole</td>\n",
       "    </tr>\n",
       "    <tr>\n",
       "      <th>59</th>\n",
       "      <td>murmur</td>\n",
       "      <td>artifact</td>\n",
       "    </tr>\n",
       "    <tr>\n",
       "      <th>63</th>\n",
       "      <td>normal</td>\n",
       "      <td>murmur</td>\n",
       "    </tr>\n",
       "    <tr>\n",
       "      <th>64</th>\n",
       "      <td>normal</td>\n",
       "      <td>murmur</td>\n",
       "    </tr>\n",
       "    <tr>\n",
       "      <th>67</th>\n",
       "      <td>murmur</td>\n",
       "      <td>normal</td>\n",
       "    </tr>\n",
       "    <tr>\n",
       "      <th>71</th>\n",
       "      <td>normal</td>\n",
       "      <td>murmur</td>\n",
       "    </tr>\n",
       "    <tr>\n",
       "      <th>72</th>\n",
       "      <td>extrastole</td>\n",
       "      <td>normal</td>\n",
       "    </tr>\n",
       "    <tr>\n",
       "      <th>75</th>\n",
       "      <td>extrastole</td>\n",
       "      <td>normal</td>\n",
       "    </tr>\n",
       "    <tr>\n",
       "      <th>79</th>\n",
       "      <td>extrastole</td>\n",
       "      <td>normal</td>\n",
       "    </tr>\n",
       "    <tr>\n",
       "      <th>80</th>\n",
       "      <td>normal</td>\n",
       "      <td>extrahls</td>\n",
       "    </tr>\n",
       "    <tr>\n",
       "      <th>81</th>\n",
       "      <td>extrastole</td>\n",
       "      <td>murmur</td>\n",
       "    </tr>\n",
       "    <tr>\n",
       "      <th>82</th>\n",
       "      <td>murmur</td>\n",
       "      <td>normal</td>\n",
       "    </tr>\n",
       "    <tr>\n",
       "      <th>83</th>\n",
       "      <td>extrastole</td>\n",
       "      <td>normal</td>\n",
       "    </tr>\n",
       "    <tr>\n",
       "      <th>84</th>\n",
       "      <td>normal</td>\n",
       "      <td>extrastole</td>\n",
       "    </tr>\n",
       "    <tr>\n",
       "      <th>85</th>\n",
       "      <td>murmur</td>\n",
       "      <td>normal</td>\n",
       "    </tr>\n",
       "    <tr>\n",
       "      <th>86</th>\n",
       "      <td>extrastole</td>\n",
       "      <td>normal</td>\n",
       "    </tr>\n",
       "    <tr>\n",
       "      <th>88</th>\n",
       "      <td>extrastole</td>\n",
       "      <td>normal</td>\n",
       "    </tr>\n",
       "    <tr>\n",
       "      <th>89</th>\n",
       "      <td>normal</td>\n",
       "      <td>murmur</td>\n",
       "    </tr>\n",
       "    <tr>\n",
       "      <th>90</th>\n",
       "      <td>murmur</td>\n",
       "      <td>normal</td>\n",
       "    </tr>\n",
       "    <tr>\n",
       "      <th>91</th>\n",
       "      <td>murmur</td>\n",
       "      <td>normal</td>\n",
       "    </tr>\n",
       "    <tr>\n",
       "      <th>92</th>\n",
       "      <td>murmur</td>\n",
       "      <td>normal</td>\n",
       "    </tr>\n",
       "    <tr>\n",
       "      <th>97</th>\n",
       "      <td>normal</td>\n",
       "      <td>extrahls</td>\n",
       "    </tr>\n",
       "    <tr>\n",
       "      <th>98</th>\n",
       "      <td>murmur</td>\n",
       "      <td>normal</td>\n",
       "    </tr>\n",
       "    <tr>\n",
       "      <th>100</th>\n",
       "      <td>normal</td>\n",
       "      <td>murmur</td>\n",
       "    </tr>\n",
       "    <tr>\n",
       "      <th>102</th>\n",
       "      <td>murmur</td>\n",
       "      <td>extrastole</td>\n",
       "    </tr>\n",
       "    <tr>\n",
       "      <th>104</th>\n",
       "      <td>murmur</td>\n",
       "      <td>normal</td>\n",
       "    </tr>\n",
       "    <tr>\n",
       "      <th>108</th>\n",
       "      <td>normal</td>\n",
       "      <td>extrahls</td>\n",
       "    </tr>\n",
       "    <tr>\n",
       "      <th>109</th>\n",
       "      <td>murmur</td>\n",
       "      <td>normal</td>\n",
       "    </tr>\n",
       "    <tr>\n",
       "      <th>112</th>\n",
       "      <td>murmur</td>\n",
       "      <td>normal</td>\n",
       "    </tr>\n",
       "    <tr>\n",
       "      <th>114</th>\n",
       "      <td>normal</td>\n",
       "      <td>murmur</td>\n",
       "    </tr>\n",
       "    <tr>\n",
       "      <th>116</th>\n",
       "      <td>normal</td>\n",
       "      <td>murmur</td>\n",
       "    </tr>\n",
       "  </tbody>\n",
       "</table>\n",
       "</div>"
      ],
      "text/plain": [
       "          label  pred_label\n",
       "2        normal    artifact\n",
       "4        normal    artifact\n",
       "7    extrastole      normal\n",
       "8      artifact      murmur\n",
       "9        normal      murmur\n",
       "10       normal      murmur\n",
       "12     extrahls      murmur\n",
       "15       normal    extrahls\n",
       "16       murmur  extrastole\n",
       "20       murmur      normal\n",
       "24       normal  extrastole\n",
       "25       normal    artifact\n",
       "28       normal      murmur\n",
       "32       murmur      normal\n",
       "36     extrahls      normal\n",
       "37       normal      murmur\n",
       "39       murmur  extrastole\n",
       "41       normal    artifact\n",
       "42       murmur    extrahls\n",
       "44       normal      murmur\n",
       "45     extrahls      normal\n",
       "46       murmur      normal\n",
       "49       normal  extrastole\n",
       "56       murmur      normal\n",
       "58       normal  extrastole\n",
       "59       murmur    artifact\n",
       "63       normal      murmur\n",
       "64       normal      murmur\n",
       "67       murmur      normal\n",
       "71       normal      murmur\n",
       "72   extrastole      normal\n",
       "75   extrastole      normal\n",
       "79   extrastole      normal\n",
       "80       normal    extrahls\n",
       "81   extrastole      murmur\n",
       "82       murmur      normal\n",
       "83   extrastole      normal\n",
       "84       normal  extrastole\n",
       "85       murmur      normal\n",
       "86   extrastole      normal\n",
       "88   extrastole      normal\n",
       "89       normal      murmur\n",
       "90       murmur      normal\n",
       "91       murmur      normal\n",
       "92       murmur      normal\n",
       "97       normal    extrahls\n",
       "98       murmur      normal\n",
       "100      normal      murmur\n",
       "102      murmur  extrastole\n",
       "104      murmur      normal\n",
       "108      normal    extrahls\n",
       "109      murmur      normal\n",
       "112      murmur      normal\n",
       "114      normal      murmur\n",
       "116      normal      murmur"
      ]
     },
     "execution_count": 27,
     "metadata": {},
     "output_type": "execute_result"
    }
   ],
   "source": [
    "### View the class with WRONG classification\n",
    "cwt_xgboost_pred_result = list(zip(convert_label(y_test_pca), convert_label(ytest_pred_pca2)))\n",
    "cwt_xgboost_result_df = pd.DataFrame(cwt_xgboost_pred_result, columns = ['label', 'pred_label'])\n",
    "num_wrong = cwt_xgboost_result_df[cwt_xgboost_result_df['label'] != cwt_xgboost_result_df['pred_label']].shape[0]\n",
    "print(f\"number of wrong prediction: {num_wrong}/{cwt_xgboost_result_df.shape[0]}\")\n",
    "\n",
    "cwt_xgboost_result_df[cwt_xgboost_result_df['label'] != cwt_xgboost_result_df['pred_label']]"
   ]
  },
  {
   "cell_type": "markdown",
   "metadata": {},
   "source": [
    "## 5.4.8 Unlabel data prediction"
   ]
  },
  {
   "cell_type": "code",
   "execution_count": 28,
   "metadata": {},
   "outputs": [],
   "source": [
    "### Load unlabel data\n",
    "\n",
    "%store -r X_aunlabel_cwt\n",
    "%store -r X_bunlabel_cwt"
   ]
  },
  {
   "cell_type": "code",
   "execution_count": 29,
   "metadata": {},
   "outputs": [
    {
     "name": "stdout",
     "output_type": "stream",
     "text": [
      "X_aunlabel_pca: (52, 120)\n",
      "X_aunlabel_pca: (195, 120)\n"
     ]
    }
   ],
   "source": [
    "### PCA feature extraction\n",
    "\n",
    "X_aunlabel_pca = pca_cwt(X_aunlabel_cwt)\n",
    "X_bunlabel_pca = pca_cwt(X_bunlabel_cwt)\n",
    "\n",
    "print(f\"X_aunlabel_pca: {X_aunlabel_pca.shape}\")\n",
    "print(f\"X_aunlabel_pca: {X_bunlabel_pca.shape}\")"
   ]
  },
  {
   "cell_type": "code",
   "execution_count": 30,
   "metadata": {},
   "outputs": [
    {
     "name": "stderr",
     "output_type": "stream",
     "text": [
      "Using TensorFlow backend.\n"
     ]
    }
   ],
   "source": [
    "### Predict unlabel audio and export results to csv file\n",
    "from keras.utils import to_categorical\n",
    "model_list = [xgb, xgb2]\n",
    "seta_col = ['normal', 'murmur', 'extrahls', 'artifact']   # col list from kaggle's evaluation_sheet\n",
    "setb_col = ['normal', 'murmur', 'extrastole']\n",
    "\n",
    "for i in range(2):\n",
    "    pred_a = model_list[i].predict(X_aunlabel_pca)\n",
    "    pred_b = model_list[i].predict(X_bunlabel_pca)\n",
    "    \n",
    "    ### to dummies\n",
    "    pred_a = to_categorical(pred_a)\n",
    "    pred_b = to_categorical(pred_b)\n",
    "    \n",
    "    ### to df\n",
    "    pred_a_df = pd.DataFrame(pred_a.astype(int), columns= classes)\n",
    "    pred_a_df = pred_a_df[seta_col]\n",
    "    pred_b_df = pd.DataFrame(pred_b.astype(int), columns= classes)\n",
    "    pred_b_df = pred_b_df[setb_col]\n",
    "    \n",
    "    ### export to csv\n",
    "    name_a = '../outputs/kaggle_eval/xgb_seta' + str(i+5) + '.csv'\n",
    "    name_b = '../outputs/kaggle_eval/xgb_setb' + str(i+5) + '.csv'\n",
    "    pred_a_df.to_csv(name_a, index = False)\n",
    "    pred_b_df.to_csv(name_b, index = False)"
   ]
  },
  {
   "cell_type": "code",
   "execution_count": null,
   "metadata": {},
   "outputs": [],
   "source": []
  },
  {
   "cell_type": "markdown",
   "metadata": {},
   "source": [
    "#### Appendix: My step to install xgboost\n",
    "\n",
    "1. brew install cmake \n",
    "2. brew install gcc@8\n",
    "3. git clone --recursive https://github.com/dmlc/xgboost\n",
    "4. mkdir xgboost/my_build\n",
    "5. cd xgboost/my_build\n",
    "6. CC=gcc-8 CXX=g++-8 cmake ..\n",
    "7. make -j4\n",
    "8. pip install xgboost"
   ]
  }
 ],
 "metadata": {
  "kernelspec": {
   "display_name": "Python 3",
   "language": "python",
   "name": "python3"
  },
  "language_info": {
   "codemirror_mode": {
    "name": "ipython",
    "version": 3
   },
   "file_extension": ".py",
   "mimetype": "text/x-python",
   "name": "python",
   "nbconvert_exporter": "python",
   "pygments_lexer": "ipython3",
   "version": "3.7.4"
  }
 },
 "nbformat": 4,
 "nbformat_minor": 2
}
