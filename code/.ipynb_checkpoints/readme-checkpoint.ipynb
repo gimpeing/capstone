{
 "cells": [
  {
   "cell_type": "markdown",
   "metadata": {},
   "source": [
    "# Capstone\n",
    "\n",
    "## Overview\n",
    "\n",
    "This is my captone project journey in GA DSI13\n",
    "\n",
    "## Topic selections\n",
    "\n",
    "We need to propose 3 topics for our capstone project and share it in the class (lightning talk) to discuss about:\n",
    "\n",
    "1. What is your problem statement?  What will you actually be doing?\n",
    "2. Who is your audience?  Why will they care?\n",
    "3. What is your success metric?  How will you know if you are actually solving the problem in a useful way?\n",
    "4. What is your data source?  What format is your data in?  How much cleaning and munging will be required?\n",
    "5. What are potential challenges or obstacles and how will you mitigate them?\n",
    "6. Is this a reasonable project given the time constraints that you have?\n",
    "\n",
    "\n",
    "## Data collection and EDA\n",
    "\n",
    "For our purposes, a lightning talk is a talk lasting **no more than five minutes**, in which you will discuss the following about your three proposed projects:\n",
    "\n",
    "1. What is your problem statement?  What will you actually be doing?\n",
    "2. Who is your audience?  Why will they care?\n",
    "3. What is your success metric?  How will you know if you are actually solving the problem in a useful way?\n",
    "4. What is your data source?  What format is your data in?  How much cleaning and munging will be required?\n",
    "5. What are potential challenges or obstacles and how will you mitigate them?\n",
    "6. Is this a reasonable project given the time constraints that you have?\n",
    "\n",
    "Time limits will be strictly enforced.\n",
    "\n",
    "> Note that you *should not* prepare slides for your talk.  This will be verbal pitches with discussion.\n",
    "\n",
    "## Recommendations for your lightning talk\n",
    "\n",
    "Think about your talk as a short pitch.  It will be helpful to practice your talk beforehand!  Keep it short, succinct and to the point.\n",
    "\n",
    "Bolded and capitalized for as much effect as possible:\n",
    "\n",
    "**HAVE YOUR DATA IN HAND AS SOON AS POSSIBLE**\n",
    "\n",
    "There is no penalty for having to switch topics or datasets in the middle of the project, provided that you can still deliver on the other portions of this work. However, if you can get the data in hand as soon as possible, you can prevent yourself a lot of extra work. \n",
    "\n",
    "## Deliverables\n",
    "\n",
    "Be prepared to discuss 3 potential topics with your peers.\n",
    "\n",
    "## Useful Resources\n",
    "\n",
    "- [How to Find the Data You Need](http://flowingdata.com/2009/10/01/30-resources-to-find-the-data-you-need/)\n",
    "- [16 Ways to Prepare for a Lightning Talk](https://www.semrush.com/blog/16-ways-to-prepare-for-a-lightning-talk/)\n",
    "## [Google Datasets Search Tool](https://toolbox.google.com/datasetsearch)\n"
   ]
  },
  {
   "cell_type": "code",
   "execution_count": null,
   "metadata": {},
   "outputs": [],
   "source": []
  }
 ],
 "metadata": {
  "kernelspec": {
   "display_name": "Python 3",
   "language": "python",
   "name": "python3"
  },
  "language_info": {
   "codemirror_mode": {
    "name": "ipython",
    "version": 3
   },
   "file_extension": ".py",
   "mimetype": "text/x-python",
   "name": "python",
   "nbconvert_exporter": "python",
   "pygments_lexer": "ipython3",
   "version": "3.7.4"
  }
 },
 "nbformat": 4,
 "nbformat_minor": 2
}
