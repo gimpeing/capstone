{
 "cells": [
  {
   "cell_type": "markdown",
   "metadata": {},
   "source": [
    "# Capstone Part 1\n",
    "\n",
    "Prepare and discuss 3 potential topics, in which, will discuss the following about the projects:\n",
    "\n",
    "1. What is your problem statement? What will you actually be doing?\n",
    "2. Who is your audience? Why will they care?\n",
    "3. What is your success metric? How will you know if you are actually solving the problem in a useful way?\n",
    "4. What is your data source? What format is your data in? How much cleaning and munging will be required?\n",
    "5. What are potential challenges or obstacles and how will you mitigate them?\n",
    "6. Is this a reasonable project given the time constraints that you have?\n"
   ]
  },
  {
   "cell_type": "markdown",
   "metadata": {},
   "source": [
    "## 1 Heartbeat Sounds Classification\n",
    "Classifying heartbeat anomalies from stethoscope audio\n",
    "\n",
    "\n",
    "### Problem Statement:\n",
    "Stethoscope is good in detecting the first warning signs of heart disease. However, this is always done by frontline health workers, mostly when we are sick or during our annual physical examination. Although digital stethoscopes is available but we still need healthcare professional to determine whether an individual is having hearbeat irregularities or abnormalities and need for further check-up. \n",
    "It is well known that early detection and intervention in heart disease (or any disease) will greatly imporves the lifespan and the effectiveness of treatment options. \n",
    "The goal of this project is to use machine learning methods to identify and classify heartbeat sounds from aduio collected from stethoscopes into normal versus various non-normal heartbeat sounds.\n",
    "\n",
    "To achieve this, tasks are divided into two sections:\n",
    "1. Identify the locations of heart sounds from the audio.\n",
    "2. Classify the heart sounds into one of several categories (normal v. various non-normal heartbeat sounds -asthma, pneumonia and bronchiolitis).\n",
    "\n",
    "\n",
    "### Target Audience:\n",
    "1. Untrained frontline health workers to help determine whether an individual should bre reffered to expert diagnosis.\n",
    "2. Consumer who can frequently check their respiratory health or constantly monitor if there is an heartbeat irregularities that prompt them to seek treatment in early stage. \n",
    "\n",
    "### Success Metric\n",
    "Model selections: Decision Tree, Random Forest, SVM Classifier, RNN (recurrent neural network)\n",
    "Evaluation metric: Accuracy score\n",
    "\n",
    "### Data Source\n",
    "[kaggle dataset: Heartbeat Sounds](https://www.kaggle.com/kinguistics/heartbeat-sounds)\n",
    "\n",
    "### Potential Challenge\n",
    "1. Handling of unstructure audio data and its extra step for pre-processing, features extraction\n",
    "2. Not the domain expert in respiratory health\n",
    "3. What model to evaluate.\n",
    "4. Not sure the feasibility to complete the project within the time given.\n"
   ]
  },
  {
   "cell_type": "code",
   "execution_count": 1,
   "metadata": {},
   "outputs": [
    {
     "data": {
      "text/plain": [
       "1.25"
      ]
     },
     "execution_count": 1,
     "metadata": {},
     "output_type": "execute_result"
    }
   ],
   "source": [
    "50000/40000"
   ]
  },
  {
   "cell_type": "markdown",
   "metadata": {},
   "source": [
    "## 2 Sentiment Analysis of Earphones Review\n",
    "\n",
    "\n",
    "### Problem statement:\n",
    "\n",
    "Wireless headphones is gaining popularity worldwide, with the growing demand and adoption of wireless headphones underpined by the penetration of smart devices such as smartphones, tablets, smart TVs. In-ear headphones is projected to gain substantial amount of market share due to its portability and convenient. However, the wirelss headphones market is moderately fragmented due to the presence of several international headphones manufacturers. Thus, understanding the consumer preference and expectation of the product will give insights on the wireless earphones market design unique growth strategies, aid in differentiating their products from competitor's , which in turn, will help them in improving their market positions and increasing their revenue shares.\n",
    "\n",
    "Thus, this project will forcus on:\n",
    "1. Sentiment Analysis by analyzing what customers saying about Bluetooth earphone devices by discovring insights into consumer review through machin learning models.\n",
    "2. Identify the key features that increase the user rating on the product\n",
    "\n",
    "\n",
    "### Target Audience:\n",
    "Wireless headphones manufacturer\n",
    "\n",
    "### Success metric\n",
    "y-target is the product rating. \n",
    "Accuracy score to evaluate how well the model is able to classify the review rating based on the post (NLP)\n",
    "Next is the extract the key words, perform topic modeling to gain insights on what consumer say on the product. \n",
    "\n",
    "### Data source\n",
    "[kaggle dataset: Amazon Earphones Reviews](https://www.kaggle.com/shitalkat/amazonearphonesreviews)\n",
    "\n",
    "\n",
    "### Potential challenges\n",
    "Sales data for the product is not available. Thus, can only make assumption that higher product ratings will translate to higher sales."
   ]
  },
  {
   "cell_type": "markdown",
   "metadata": {},
   "source": [
    "## 3 Prediction of Dengue Outbreak\n",
    "\n",
    "### Problem statement:\n",
    "Amid the coronavirus outbreak, there is another headache that could be coming at Singaporeans very soon: a new strain of dengue. And these infections could be more widespread than the COVID-19 infections that have been plaguing Singaporeans. According to NEA, the increase in circulation of the dengue-3 serotype, the high Aedes aegypti mosquito population, and the current high number of dengue cases could cause the number of reported cases weekly to rise above current levels in 2020. Concerted community action and sustained mosquito control efforts are needed to prevent further escalation of the Aedes aegypti mosquito population, and an increase in the number of people becoming ill with dengue, and subsequently reduce the risk of dengue outbreak.\n",
    "\n",
    "Other than the social responsibity effor in combating the dengue outbreak, this project is aim to study the trend of dengue cases and predict when and where will be a possible dnegue outbreak occur.\n",
    "\n",
    "### Target Audience:\n",
    "National Environment Agency, communities in general\n",
    "\n",
    "\n",
    "### Success metric\n",
    "Time series regression analysis\n",
    "\n",
    "### Data source\n",
    "[kaggle dataset: Dengue cases in philipines](https://www.kaggle.com/grosvenpaul/dengue-cases-in-the-philippines/kernels)\n",
    "\n",
    "### Potential challenges\n",
    "Environmental impact on the dengue outbreak, social behavior will impact the potential outbeak of dengue cases, which the data is not available."
   ]
  },
  {
   "cell_type": "code",
   "execution_count": 2,
   "metadata": {},
   "outputs": [],
   "source": [
    "import wave"
   ]
  },
  {
   "cell_type": "code",
   "execution_count": 3,
   "metadata": {},
   "outputs": [],
   "source": [
    "fname = '../part_2/heartbeat-sounds/set_a/normal__201108011112.wav'"
   ]
  },
  {
   "cell_type": "code",
   "execution_count": 5,
   "metadata": {},
   "outputs": [],
   "source": [
    "f = wave.open(fname)"
   ]
  },
  {
   "cell_type": "code",
   "execution_count": 6,
   "metadata": {},
   "outputs": [],
   "source": [
    "frames = f.readframes(-1)"
   ]
  },
  {
   "cell_type": "code",
   "execution_count": 7,
   "metadata": {},
   "outputs": [
    {
     "name": "stdout",
     "output_type": "stream",
     "text": [
      "b'7\\x01H\\x01a\\x01c\\x01o\\x01m\\x01j\\x01b\\x01Y\\x01N\\x01'\n"
     ]
    }
   ],
   "source": [
    "print(frames[:20])"
   ]
  },
  {
   "cell_type": "code",
   "execution_count": 13,
   "metadata": {},
   "outputs": [
    {
     "name": "stdout",
     "output_type": "stream",
     "text": [
      "2\n"
     ]
    }
   ],
   "source": [
    "print(f.getsampwidth())"
   ]
  },
  {
   "cell_type": "code",
   "execution_count": 14,
   "metadata": {},
   "outputs": [
    {
     "name": "stdout",
     "output_type": "stream",
     "text": [
      "(311, 328, 353, 355, 367, 365, 362, 354, 345, 334)\n"
     ]
    }
   ],
   "source": [
    "import struct\n",
    "samples = struct.unpack('h'*f.getnframes(), frames)\n",
    "print(samples[:10])"
   ]
  },
  {
   "cell_type": "code",
   "execution_count": 16,
   "metadata": {},
   "outputs": [
    {
     "name": "stdout",
     "output_type": "stream",
     "text": [
      "[0.0, 2.2675736961451248e-05, 4.5351473922902495e-05, 6.802721088435374e-05, 9.070294784580499e-05, 0.00011337868480725624, 0.00013605442176870748, 0.00015873015873015873, 0.00018140589569160998, 0.00020408163265306123]\n"
     ]
    }
   ],
   "source": [
    "framerate = f.getframerate()\n",
    "t = [float(i)/framerate for i in range(len(samples))]\n",
    "print(t[:10])"
   ]
  },
  {
   "cell_type": "code",
   "execution_count": 18,
   "metadata": {},
   "outputs": [
    {
     "data": {
      "image/png": "[encoded data removed]",
      "text/plain": [
       "<Figure size 432x288 with 1 Axes>"
      ]
     },
     "metadata": {
      "needs_background": "light"
     },
     "output_type": "display_data"
    }
   ],
   "source": [
    "from pylab import *\n",
    "plot(t, samples);"
   ]
  },
  {
   "cell_type": "code",
   "execution_count": null,
   "metadata": {},
   "outputs": [],
   "source": []
  }
 ],
 "metadata": {
  "kernelspec": {
   "display_name": "Python 3",
   "language": "python",
   "name": "python3"
  },
  "language_info": {
   "codemirror_mode": {
    "name": "ipython",
    "version": 3
   },
   "file_extension": ".py",
   "mimetype": "text/x-python",
   "name": "python",
   "nbconvert_exporter": "python",
   "pygments_lexer": "ipython3",
   "version": "3.7.4"
  }
 },
 "nbformat": 4,
 "nbformat_minor": 2
}
